{
 "cells": [
  {
   "cell_type": "code",
   "execution_count": 6,
   "metadata": {},
   "outputs": [
    {
     "name": "stdout",
     "output_type": "stream",
     "text": [
      "/home/k64t/person-reid/MFSvi\n"
     ]
    }
   ],
   "source": [
    "cd /home/k64t/person-reid/MFSvi"
   ]
  },
  {
   "cell_type": "code",
   "execution_count": 7,
   "metadata": {},
   "outputs": [],
   "source": [
    "import numpy as np # linear algebra\n",
    "import pandas as pd # data processing, CSV file I/O (e.g. pd.read_csv)\n",
    "\n",
    "import datasets\n",
    "import torch\n",
    "import torch.nn as nn\n",
    "import torch.optim as optim\n",
    "import random\n",
    "import numpy as np\n",
    "import spacy\n",
    "import torchtext\n",
    "import tqdm\n",
    "\n",
    "\n",
    "all_data_path = '.data/multi30k'\n",
    "train_en_path = all_data_path + '/train.en'\n",
    "train_vi_path = all_data_path + '/train.vi'\n",
    "val_en_path = all_data_path + '/val.en'\n",
    "val_vi_path = all_data_path + '/val.vi'\n",
    "test_en_path = all_data_path + '/test2016.en'\n",
    "test_vi_path = all_data_path + '/test2016.vi'\n",
    "\n",
    "with open(train_en_path, 'r') as file:\n",
    "    en_train = file.readlines()\n",
    "with open(train_vi_path, 'r') as file:\n",
    "    vi_train = file.readlines()\n",
    "with open(test_en_path, 'r') as file:\n",
    "    en_test = file.readlines()\n",
    "with open(test_vi_path, 'r') as file:\n",
    "    vi_test = file.readlines()"
   ]
  },
  {
   "cell_type": "code",
   "execution_count": 8,
   "metadata": {},
   "outputs": [],
   "source": [
    "import spacy\n",
    "en_nlp = spacy.load(\"en_core_web_sm\")\n",
    "vi_nlp = spacy.load(\"xx_sent_ud_sm\")\n",
    "def tokenize_example(example, en_nlp, vi_nlp, max_length, lower, sos_token, eos_token):\n",
    "    en_tokens = [token.text for token in en_nlp.tokenizer(example[\"en\"])][:max_length]\n",
    "    vi_tokens = [token.text for token in vi_nlp.tokenizer(example[\"vi\"])][:max_length]\n",
    "    if lower:\n",
    "        en_tokens = [token.lower() for token in en_tokens]\n",
    "        vi_tokens = [token.lower() for token in vi_tokens]\n",
    "    en_tokens = [sos_token] + en_tokens + [eos_token]\n",
    "    vi_tokens = [sos_token] + vi_tokens + [eos_token]\n",
    "    return {\"en_tokens\": en_tokens, \"vi_tokens\": vi_tokens}\n",
    "max_length = 128\n",
    "lower = True\n",
    "sos_token = \"<sos>\"\n",
    "eos_token = \"<eos>\"\n",
    "\n",
    "train_data = []\n",
    "en_tokens = []\n",
    "vi_tokens = []\n",
    "vi_len = []\n",
    "en_len = []\n",
    "for (vi_text, en_text) in zip(vi_train, en_train):\n",
    "  train_data.append(tokenize_example({'vi': vi_text, 'en': en_text}, en_nlp, vi_nlp,  max_length, lower, sos_token, eos_token))\n",
    "  vi_tokens.append(train_data[-1]['vi_tokens'])\n",
    "  en_tokens.append(train_data[-1]['en_tokens'])\n",
    "  vi_len.append(len(train_data[-1]['vi_tokens']))\n",
    "  en_len.append(len(train_data[-1]['en_tokens']))\n",
    "\n",
    "test_data = []\n",
    "for (vi_text, en_text) in zip(vi_test, en_test):\n",
    "  test_data.append(tokenize_example({'vi': vi_text, 'en': en_text}, en_nlp, vi_nlp,  max_length, lower, sos_token, eos_token))"
   ]
  },
  {
   "cell_type": "code",
   "execution_count": 12,
   "metadata": {},
   "outputs": [
    {
     "ename": "ModuleNotFoundError",
     "evalue": "No module named 'torchtext.legacy'",
     "output_type": "error",
     "traceback": [
      "\u001b[0;31m---------------------------------------------------------------------------\u001b[0m",
      "\u001b[0;31mModuleNotFoundError\u001b[0m                       Traceback (most recent call last)",
      "Cell \u001b[0;32mIn[12], line 13\u001b[0m\n\u001b[1;32m      5\u001b[0m eos_token \u001b[38;5;241m=\u001b[39m \u001b[38;5;124m\"\u001b[39m\u001b[38;5;124m<eos>\u001b[39m\u001b[38;5;124m\"\u001b[39m\n\u001b[1;32m      6\u001b[0m special_tokens \u001b[38;5;241m=\u001b[39m [\n\u001b[1;32m      7\u001b[0m     unk_token,\n\u001b[1;32m      8\u001b[0m     pad_token,\n\u001b[1;32m      9\u001b[0m     sos_token,\n\u001b[1;32m     10\u001b[0m     eos_token,\n\u001b[1;32m     11\u001b[0m ]\n\u001b[0;32m---> 13\u001b[0m \u001b[38;5;28;01mfrom\u001b[39;00m \u001b[38;5;21;01mtorchtext\u001b[39;00m\u001b[38;5;21;01m.\u001b[39;00m\u001b[38;5;21;01mlegacy\u001b[39;00m \u001b[38;5;28;01mimport\u001b[39;00m vocab\n\u001b[1;32m     16\u001b[0m en_vocab \u001b[38;5;241m=\u001b[39m torchtext\u001b[38;5;241m.\u001b[39mvocab\u001b[38;5;241m.\u001b[39mbuild_vocab_from_iterator(\n\u001b[1;32m     17\u001b[0m     en_tokens,\n\u001b[1;32m     18\u001b[0m     min_freq\u001b[38;5;241m=\u001b[39mmin_freq,\n\u001b[1;32m     19\u001b[0m     specials\u001b[38;5;241m=\u001b[39mspecial_tokens,\n\u001b[1;32m     20\u001b[0m )\n\u001b[1;32m     22\u001b[0m vi_vocab \u001b[38;5;241m=\u001b[39m torchtext\u001b[38;5;241m.\u001b[39mvocab\u001b[38;5;241m.\u001b[39mbuild_vocab_from_iterator(\n\u001b[1;32m     23\u001b[0m     vi_tokens,\n\u001b[1;32m     24\u001b[0m     min_freq\u001b[38;5;241m=\u001b[39mmin_freq,\n\u001b[1;32m     25\u001b[0m     specials\u001b[38;5;241m=\u001b[39mspecial_tokens,\n\u001b[1;32m     26\u001b[0m )\n",
      "\u001b[0;31mModuleNotFoundError\u001b[0m: No module named 'torchtext.legacy'"
     ]
    }
   ],
   "source": [
    "min_freq = 3\n",
    "unk_token = \"<unk>\"\n",
    "pad_token = \"<pad>\"\n",
    "sos_token = \"<sos>\"\n",
    "eos_token = \"<eos>\"\n",
    "special_tokens = [\n",
    "    unk_token,\n",
    "    pad_token,\n",
    "    sos_token,\n",
    "    eos_token,\n",
    "]\n",
    "\n",
    "en_vocab = torchtext.vocab.build_vocab_from_iterator(\n",
    "    en_tokens,\n",
    "    min_freq=min_freq,\n",
    "    specials=special_tokens,\n",
    ")\n",
    "\n",
    "vi_vocab = torchtext.vocab.build_vocab_from_iterator(\n",
    "    vi_tokens,\n",
    "    min_freq=min_freq,\n",
    "    specials=special_tokens,\n",
    ")\n",
    "print(test_data[:10])"
   ]
  },
  {
   "cell_type": "code",
   "execution_count": null,
   "metadata": {},
   "outputs": [
    {
     "ename": "",
     "evalue": "",
     "output_type": "error",
     "traceback": [
      "\u001b[1;31mRunning cells with '/bin/python' requires the ipykernel package.\n",
      "\u001b[1;31mRun the following command to install 'ipykernel' into the Python environment. \n",
      "\u001b[1;31mCommand: '/bin/python -m pip install ipykernel -U --user --force-reinstall'"
     ]
    }
   ],
   "source": []
  }
 ],
 "metadata": {
  "kernelspec": {
   "display_name": "Python 3",
   "language": "python",
   "name": "python3"
  },
  "language_info": {
   "codemirror_mode": {
    "name": "ipython",
    "version": 3
   },
   "file_extension": ".py",
   "mimetype": "text/x-python",
   "name": "python",
   "nbconvert_exporter": "python",
   "pygments_lexer": "ipython3",
   "version": "3.8.0"
  }
 },
 "nbformat": 4,
 "nbformat_minor": 2
}
